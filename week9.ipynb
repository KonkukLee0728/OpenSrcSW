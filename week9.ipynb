{
 "cells": [
  {
   "cell_type": "code",
   "execution_count": 3,
   "metadata": {
    "scrolled": true
   },
   "outputs": [
    {
     "name": "stdout",
     "output_type": "stream",
     "text": [
      "x값을 입력하시오: 10\n",
      "y값은 41입니다.\n"
     ]
    }
   ],
   "source": [
    "x = int(input(\"x값을 입력하시오: \"))\n",
    "y = (3*x)^2 + 5*x + 3\n",
    "print(f\"y값은 {y}입니다.\")"
   ]
  },
  {
   "cell_type": "code",
   "execution_count": 5,
   "metadata": {
    "scrolled": true
   },
   "outputs": [
    {
     "name": "stdout",
     "output_type": "stream",
     "text": [
      "원의 반지름을 입력하세요: 1\n",
      "원의 둘레: 6.28, 원의 넓이: 9.42\n"
     ]
    }
   ],
   "source": [
    "pi = float(3.14)\n",
    "r = int(input(\"원의 반지름을 입력하세요: \"))\n",
    "print(f\"원의 둘레: {2*pi*r}, 원의 넓이: {pi*(r^2)}\")"
   ]
  }
 ],
 "metadata": {
  "kernelspec": {
   "display_name": "Python 3",
   "language": "python",
   "name": "python3"
  },
  "language_info": {
   "codemirror_mode": {
    "name": "ipython",
    "version": 3
   },
   "file_extension": ".py",
   "mimetype": "text/x-python",
   "name": "python",
   "nbconvert_exporter": "python",
   "pygments_lexer": "ipython3",
   "version": "3.7.6"
  }
 },
 "nbformat": 4,
 "nbformat_minor": 4
}
