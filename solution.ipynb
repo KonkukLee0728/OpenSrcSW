{
 "cells": [
  {
   "cell_type": "code",
   "execution_count": 7,
   "id": "09c3a83c",
   "metadata": {},
   "outputs": [
    {
     "name": "stdout",
     "output_type": "stream",
     "text": [
      "(1, 2)\n",
      "(3, 4)\n",
      "(4, 6)\n"
     ]
    }
   ],
   "source": [
    "\n",
    "\n",
    "class Point:\n",
    "    a = 0\n",
    "    b = 0\n",
    "    def __init__(self, input1, input2):\n",
    "        self.a = input1\n",
    "        self.b = input2\n",
    "        \n",
    "    def __add__(self, input1):\n",
    "        self.a = input1.a + self.a\n",
    "        self.b = input1.b + self.b\n",
    "        return self\n",
    "        \n",
    "    def show(self):\n",
    "        print(f\"({self.a}, {self.b})\")\n",
    "        \n",
    "\n",
    "a = Point(1, 2)\n",
    "a.show()\n",
    "b = Point(3, 4)\n",
    "b.show()\n",
    "\n",
    "a = a + b\n",
    "a.show()"
   ]
  },
  {
   "cell_type": "code",
   "execution_count": 19,
   "id": "b0c39a22",
   "metadata": {},
   "outputs": [
    {
     "name": "stdout",
     "output_type": "stream",
     "text": [
      "Max week = 5/8 ~ 5/14\n"
     ]
    }
   ],
   "source": [
    "import csv\n",
    "f = open(\"seoul.csv\", encoding = 'euc-kr')\n",
    "data = csv.reader(f)\n",
    "next(data)\n",
    "\n",
    "result = [0, 0, 0, 0]\n",
    "t = 0\n",
    "i = 1\n",
    "maxtemp = 0\n",
    "tmt = -1\n",
    "\n",
    "for row in data:\n",
    "    if i == 8:\n",
    "        i = 0\n",
    "        t += 1\n",
    "    k = float(row[4]) - float(row[3])\n",
    "    result[t] += k\n",
    "    i = i + 1\n",
    "\n",
    "\n",
    "for i in range(0, 4):\n",
    "    if result[i] > maxtemp:\n",
    "        tmt = i\n",
    "        maxtemp = result[i]\n",
    "        \n",
    "print(f\"Max week = 5/{7*tmt+1} ~ 5/{7*(tmt+1)}\")\n",
    "\n",
    "\n",
    "f.close()"
   ]
  },
  {
   "cell_type": "code",
   "execution_count": 42,
   "id": "98e3d907",
   "metadata": {},
   "outputs": [
    {
     "name": "stdout",
     "output_type": "stream",
     "text": [
      "[0.16666666666666666, 0.25, 0.2222222222222222]\n"
     ]
    },
    {
     "data": {
      "image/png": "[encoded data removed]",
      "text/plain": [
       "<Figure size 432x288 with 1 Axes>"
      ]
     },
     "metadata": {
      "needs_background": "light"
     },
     "output_type": "display_data"
    }
   ],
   "source": [
    "import numpy as np\n",
    "import matplotlib.pyplot as plt\n",
    "\n",
    "Docs = np.array([1, 1, 0, 1, 0, 1, 1, 1, 1, 0, 1, 0, 1, 1, 0, 1, 0 , 0])\n",
    "Docs = Docs.reshape(3, 6)\n",
    "Query = np.array([1,1,0,0,1,0])\n",
    "cosResult = [0, 0, 0]\n",
    "\n",
    "rd = [0,0, 0] #Docs * query\n",
    "\n",
    "dd = [0,0,0] #DOcs*Docs\n",
    "qq = 0 #Qu*Qu\n",
    "\n",
    "    \n",
    "for i in range(0, 3):\n",
    "    a = Docs[i] * Query\n",
    "    for j in a:\n",
    "        rd[i] += j\n",
    "        \n",
    "for i in range(0,3):\n",
    "    a = Docs[i]*Docs[i]\n",
    "    for j in a:\n",
    "        dd[i] +=j\n",
    "\n",
    "a = Query * Query\n",
    "for j in a:\n",
    "    qq += j\n",
    "\n",
    "result = [0.0, 0.0, 0.0]\n",
    "\n",
    "for i in range(0, 3):\n",
    "    result[i] = rd[i] / (dd[i] * qq)\n",
    "    \n",
    "print(result)\n",
    "\n",
    "\n",
    "plt.title(\"Cosine similarities\")\n",
    "plt.bar([f\"doc1={result[0]}\", f\"doc2={result[1]}\", f\"doc3={result[2]}\"], [result[0], result[1], result[2]])\n",
    "plt.show()"
   ]
  },
  {
   "cell_type": "code",
   "execution_count": null,
   "id": "9fed6b21",
   "metadata": {},
   "outputs": [],
   "source": []
  }
 ],
 "metadata": {
  "kernelspec": {
   "display_name": "Python 3",
   "language": "python",
   "name": "python3"
  },
  "language_info": {
   "codemirror_mode": {
    "name": "ipython",
    "version": 3
   },
   "file_extension": ".py",
   "mimetype": "text/x-python",
   "name": "python",
   "nbconvert_exporter": "python",
   "pygments_lexer": "ipython3",
   "version": "3.8.8"
  }
 },
 "nbformat": 4,
 "nbformat_minor": 5
}
