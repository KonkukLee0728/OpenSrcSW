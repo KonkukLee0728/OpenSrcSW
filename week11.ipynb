{
 "cells": [
  {
   "cell_type": "code",
   "execution_count": 15,
   "metadata": {
    "scrolled": true
   },
   "outputs": [
    {
     "name": "stdout",
     "output_type": "stream",
     "text": [
      "cp file1 file2\n",
      "hello python!\n"
     ]
    }
   ],
   "source": [
    "userinput = list(input(\"\").split())\n",
    "\n",
    "f = open(f'{userinput[1]}', 'r')\n",
    "o = open(f'{userinput[2]}', 'w')\n",
    "if userinput[0] == 'cp' :\n",
    "    data = f.read()\n",
    "    o.write(data)"
   ]
  },
  {
   "cell_type": "code",
   "execution_count": 24,
   "metadata": {},
   "outputs": [
    {
     "name": "stdout",
     "output_type": "stream",
     "text": [
      "test\n",
      "#of lines: 3\n",
      "#of words: 5\n"
     ]
    }
   ],
   "source": [
    "userinput = input(\"\")\n",
    "\n",
    "f = open(f'{userinput}', 'r')\n",
    "\n",
    "lines = f.readlines()\n",
    "lineCnt = 0\n",
    "wordCnt = 0\n",
    "\n",
    "for line in lines:\n",
    "    lineCnt += 1\n",
    "    words = line.split()\n",
    "    wordCnt += len(words)\n",
    "    \n",
    "print(f\"#of lines: {lineCnt}\")\n",
    "print(f\"#of words: {wordCnt}\")\n",
    "    "
   ]
  },
  {
   "cell_type": "code",
   "execution_count": 28,
   "metadata": {},
   "outputs": [
    {
     "name": "stdout",
     "output_type": "stream",
     "text": [
      "1 + 2 = 3입니다.\n",
      "1 - 2 = -1입니다.\n",
      "1 * 2 = 2입니다.\n",
      "1 / 2 = 0.5입니다.\n"
     ]
    }
   ],
   "source": [
    "class Calc:\n",
    "    def sum(self, a, b):\n",
    "        result = a + b\n",
    "        print(\"{0} + {1} = {2}입니다.\".format(a, b, result))\n",
    "    def subtraction(self, a, b):\n",
    "        result = a - b\n",
    "        print(\"{0} - {1} = {2}입니다.\".format(a, b, result))\n",
    "    def multiplication(self, a, b):\n",
    "        result = a * b\n",
    "        print(\"{0} * {1} = {2}입니다.\".format(a, b, result))\n",
    "    def division(self, a, b):\n",
    "        result = a / b\n",
    "        print(\"{0} / {1} = {2}입니다.\".format(a, b, result))\n",
    "        \n",
    "calc = Calc()\n",
    "calc.sum(1, 2)\n",
    "calc.subtraction(1, 2)\n",
    "calc.multiplication(1, 2)\n",
    "calc.division(1, 2)"
   ]
  },
  {
   "cell_type": "code",
   "execution_count": 51,
   "metadata": {},
   "outputs": [
    {
     "name": "stdout",
     "output_type": "stream",
     "text": [
      "1 + 2 - 3 * 4 + 5\n",
      "1+2-3*4+5=-4\n"
     ]
    }
   ],
   "source": [
    "class myStack:\n",
    "    def push(self, item):\n",
    "        stack.append(item)\n",
    "    def pop(self):\n",
    "        return stack.pop()\n",
    "    \n",
    "userinput = input(\"\").split()\n",
    "\n",
    "stack = []\n",
    "a = myStack()\n",
    "\n",
    "for i in userinput:\n",
    "    a.push(i)\n",
    "\n",
    "result = eval(\"\".join(stack))\n",
    "p=\"\".join(stack)\n",
    "print(f\"{p}={result}\")\n",
    "\n",
    "    \n",
    "    "
   ]
  },
  {
   "cell_type": "code",
   "execution_count": null,
   "metadata": {},
   "outputs": [],
   "source": []
  }
 ],
 "metadata": {
  "kernelspec": {
   "display_name": "Python 3",
   "language": "python",
   "name": "python3"
  },
  "language_info": {
   "codemirror_mode": {
    "name": "ipython",
    "version": 3
   },
   "file_extension": ".py",
   "mimetype": "text/x-python",
   "name": "python",
   "nbconvert_exporter": "python",
   "pygments_lexer": "ipython3",
   "version": "3.7.6"
  }
 },
 "nbformat": 4,
 "nbformat_minor": 4
}
