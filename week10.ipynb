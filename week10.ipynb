{
 "cells": [
  {
   "cell_type": "code",
   "execution_count": 13,
   "metadata": {},
   "outputs": [
    {
     "name": "stdout",
     "output_type": "stream",
     "text": [
      "Numbers? 10 456 87 7 8\n",
      "Max = 456\n"
     ]
    }
   ],
   "source": [
    "inputs = list(map(int, input(\"Numbers? \").split()))\n",
    "max = inputs[0]\n",
    "\n",
    "for num in inputs:\n",
    "    if max < num :\n",
    "        max = num\n",
    "\n",
    "        \n",
    "print(f\"Max = {max}\")\n",
    "    "
   ]
  },
  {
   "cell_type": "code",
   "execution_count": 39,
   "metadata": {},
   "outputs": [
    {
     "name": "stdout",
     "output_type": "stream",
     "text": [
      "문자열 입력: efg bcd\n",
      "1. 암호화 2. 복호화2\n",
      "abc def \n"
     ]
    }
   ],
   "source": [
    "pwd = list(input(\"문자열 입력: \").split())\n",
    "result = \"\"\n",
    "\n",
    "option = input(\"1. 암호화 2. 복호화\")\n",
    "\n",
    "if option == '1':\n",
    "    for i in range(len(pwd)-1, -1, -1) :\n",
    "        for j in pwd[i]:\n",
    "            result += chr(ord(j)+1)\n",
    "        result += \" \"\n",
    "        \n",
    "elif option == '2':\n",
    "    for i in range(len(pwd)-1, -1, -1) :\n",
    "        for j in pwd[i]:\n",
    "            result += chr(ord(j)-1)\n",
    "        result += \" \"\n",
    "  \n",
    "else :\n",
    "    print(\"숫자를 잘못 입력하였습니다.\")\n",
    "\n",
    "print(result)"
   ]
  },
  {
   "cell_type": "code",
   "execution_count": 49,
   "metadata": {},
   "outputs": [
    {
     "name": "stdout",
     "output_type": "stream",
     "text": [
      "이름과 전화번호를 입력하세요: 홍길동 010-1234\n",
      "이름과 전화번호를 입력하세요: 이종민 010-7777\n",
      "이름을 입력하세요:홍길동\n",
      "전화번호: 010-1234\n"
     ]
    }
   ],
   "source": [
    "pbook = {}\n",
    "for i in range(10):\n",
    "    name, phone = input(\"이름과 전화번호를 입력하세요: \").split()\n",
    "    pbook[name] = phone\n",
    "\n",
    "search = input(\"이름을 입력하세요:\")\n",
    "\n",
    "if pbook.get(search):\n",
    "    print(f\"전화번호: {pbook[search]}\")\n",
    "else :\n",
    "    printf(\"전화번호부에 존재하지 않는 이름입니다.\")"
   ]
  }
 ],
 "metadata": {
  "kernelspec": {
   "display_name": "Python 3",
   "language": "python",
   "name": "python3"
  },
  "language_info": {
   "codemirror_mode": {
    "name": "ipython",
    "version": 3
   },
   "file_extension": ".py",
   "mimetype": "text/x-python",
   "name": "python",
   "nbconvert_exporter": "python",
   "pygments_lexer": "ipython3",
   "version": "3.7.6"
  }
 },
 "nbformat": 4,
 "nbformat_minor": 4
}
